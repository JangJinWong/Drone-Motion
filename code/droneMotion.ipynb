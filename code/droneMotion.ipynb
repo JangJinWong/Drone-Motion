{
 "cells": [
  {
   "cell_type": "markdown",
   "metadata": {},
   "source": [
    "# DroneMotion"
   ]
  },
  {
   "cell_type": "markdown",
   "metadata": {},
   "source": [
    "## Kernel Mode"
   ]
  },
  {
   "cell_type": "markdown",
   "metadata": {},
   "source": [
    "### Import Statements"
   ]
  },
  {
   "cell_type": "code",
   "execution_count": null,
   "metadata": {
    "collapsed": false
   },
   "outputs": [],
   "source": [
    "# Import pytorch\n",
    "from torchvision.transforms import Compose, CenterCrop, Scale\n",
    "from torchvision.transforms import ToTensor, Normalize\n",
    "from torch.nn import Linear, CrossEntropyLoss, Softmax\n",
    "from torchvision.datasets import ImageFolder\n",
    "from torch.utils.data import DataLoader\n",
    "from torch.autograd import Variable\n",
    "from torch.optim import Adam\n",
    "from torch import max, sum, save, load"
   ]
  },
  {
   "cell_type": "code",
   "execution_count": null,
   "metadata": {
    "collapsed": false
   },
   "outputs": [],
   "source": [
    "# Import other\n",
    "from cv2 import VideoCapture, imwrite\n",
    "import matplotlib.pyplot as plt\n",
    "from PIL.Image import fromarray\n",
    "from __future__ import division\n",
    "from os.path import isdir, join\n",
    "from os import makedirs, system\n",
    "import numpy as np\n",
    "import time"
   ]
  },
  {
   "cell_type": "markdown",
   "metadata": {},
   "source": [
    "### Function Declarations"
   ]
  },
  {
   "cell_type": "code",
   "execution_count": null,
   "metadata": {
    "collapsed": false
   },
   "outputs": [],
   "source": [
    "################################################################################\n",
    "# Description:  Captures frames of a single type of movement and save them\n",
    "# Function:     capture_movement\n",
    "# Inputs:       move         (movement name)\n",
    "#               movement_dir (movement directory path)\n",
    "# Outputs:      none\n",
    "################################################################################\n",
    "def capture_movement(move, movement_dir='movements'):\n",
    "    \n",
    "    # Check for movement directory\n",
    "    if not isdir(movement_dir):\n",
    "        makedirs(movement_dir)\n",
    "        \n",
    "    # Check for move directory\n",
    "    if not isdir(join(movement_dir, move)):\n",
    "        makedirs(join(movement_dir, move))\n",
    "        \n",
    "    # Capture movement\n",
    "    index = 0\n",
    "    capture = VideoCapture(0)\n",
    "    \n",
    "    # Adjust light levels\n",
    "    for frame in range(10):\n",
    "        _, frame = capture.read()\n",
    "    \n",
    "    # Capture a certain number of frames\n",
    "    for frame in range(10):\n",
    "        _, frame = capture.read()\n",
    "        image_name = move + '_' + str(index) + '.png'\n",
    "        imwrite(join(movement_dir, move, image_name), frame)\n",
    "        index += 1\n",
    "    capture.release()\n",
    "    \n",
    "    # Display one sample frame\n",
    "    plt.imshow(plt.imread(join(movement_dir, move, image_name)))"
   ]
  },
  {
   "cell_type": "code",
   "execution_count": null,
   "metadata": {
    "collapsed": true
   },
   "outputs": [],
   "source": [
    "################################################################################\n",
    "# Description:  Train neural network model\n",
    "# Function:     train_nn\n",
    "# Inputs:       model      (model to be trained)\n",
    "#               model_name (name of file to save model)\n",
    "#               loader     (data loader)\n",
    "#               size       (size of training data set)\n",
    "#               criterion  (loss function)\n",
    "#               optimizer  (optimizer for training)\n",
    "#               epochs     (number of epochs)\n",
    "# Outputs:      none\n",
    "################################################################################\n",
    "def train_nn(model, model_name, loader, size, criterion, optimizer, epochs):\n",
    "    \n",
    "    # Initialize training variables\n",
    "    best_loss = float(\"inf\")\n",
    "    losses = []\n",
    "    accuracies = []\n",
    "\n",
    "    # Iterate over epochs\n",
    "    for epoch in range(epochs):\n",
    "        print ('Epoch {}/{}'.format(epoch + 1, epochs))\n",
    "        print ('-' * 10)\n",
    "\n",
    "        # Initialize epoch variables\n",
    "        running_loss = 0.0\n",
    "        running_corrects = 0\n",
    "\n",
    "        # Iterate over batches of data\n",
    "        for batch in loader:\n",
    "            \n",
    "            # Acquire batch of data\n",
    "            inputs, labels = batch\n",
    "            inputs, labels = Variable(inputs), Variable(labels)\n",
    "\n",
    "            # Forward Propagation\n",
    "            optimizer.zero_grad()\n",
    "            outputs = model(inputs)\n",
    "\n",
    "            # Backward Propagation\n",
    "            loss = criterion(outputs, labels)\n",
    "            loss.backward()\n",
    "            optimizer.step()\n",
    "\n",
    "            # Update epoch variables\n",
    "            _, predictions = max(outputs.data, 1)\n",
    "            running_corrects += sum(predictions == labels.data)\n",
    "            running_loss += loss.data[0]\n",
    "\n",
    "        # Calculate epoch statistics\n",
    "        epoch_loss = running_loss / size\n",
    "        epoch_acc = running_corrects / size\n",
    "        losses.append(epoch_loss)\n",
    "        accuracies.append(epoch_acc)\n",
    "        print ('Loss: {:.4f} Accuracy: {:.4f}'.format(epoch_loss, epoch_acc))\n",
    "        print ('')\n",
    "\n",
    "        # Save if best model\n",
    "        if epoch_loss < best_loss:\n",
    "            best_loss = epoch_loss\n",
    "            save(model, model_name + '.pth')\n",
    "            \n",
    "        # Stopping condition\n",
    "        if best_loss < 0.001:\n",
    "            break\n",
    "\n",
    "    # Output , save\n",
    "    print ('Training Complete - Loss: {:4f}'.format(best_loss))\n",
    "    \n",
    "    # Plot Training Loss\n",
    "    plt.figure()\n",
    "    plt.plot(losses)\n",
    "    plt.xlabel('Epochs')\n",
    "    plt.ylabel('Training Loss')\n",
    "    \n",
    "    # Plot Training Accuracy\n",
    "    plt.figure()\n",
    "    plt.plot(accuracies)\n",
    "    plt.xlabel('Epochs')\n",
    "    plt.ylabel('Training Accuracy')"
   ]
  },
  {
   "cell_type": "code",
   "execution_count": null,
   "metadata": {
    "collapsed": false
   },
   "outputs": [],
   "source": [
    "################################################################################\n",
    "# Description:  Processes captured movements and calibrates sensor\n",
    "# Function:     calibrate_sensor\n",
    "# Inputs:       movement_dir (movement directory path)\n",
    "# Outputs:      none\n",
    "################################################################################\n",
    "def calibrate_sensor(movement_dir='movements'):\n",
    "    \n",
    "    # Data transformation and augmentation\n",
    "    transform = Compose([CenterCrop(720), Scale(224), \n",
    "                         ToTensor(), Normalize([0.485, 0.456, 0.406],\n",
    "                                               [0.229, 0.224, 0.225])])\n",
    "    \n",
    "    # Initialize model arguments\n",
    "    #from torchvision.models import resnet18\n",
    "    #model = resnet18(pretrained=True)\n",
    "    #num_ftrs = model.fc.in_features\n",
    "    #model.fc = Linear(num_ftrs, 8)\n",
    "    model = load('./droneMotion.pth')\n",
    "    model_name = 'droneMotion'\n",
    "    \n",
    "    # Initialize data arguments\n",
    "    dataset = ImageFolder(movement_dir, transform)\n",
    "    loader = DataLoader(dataset, batch_size=1, shuffle=True)\n",
    "    size = len(dataset)\n",
    "    \n",
    "    # Initialize training arguments\n",
    "    criterion = CrossEntropyLoss()\n",
    "    optimizer = Adam(model.parameters())\n",
    "    epochs = 100\n",
    "    \n",
    "    # Train and return neural network\n",
    "    train_nn(model, model_name, loader, size, criterion, optimizer, epochs)"
   ]
  },
  {
   "cell_type": "code",
   "execution_count": null,
   "metadata": {
    "collapsed": true
   },
   "outputs": [],
   "source": [
    "################################################################################\n",
    "# Description:  Implementation of discrete bayes filter.\n",
    "# Function:     discrete_bayes_filter \n",
    "# Inputs:       p (prior probability distribution)\n",
    "#               z (sensor probability distribution)\n",
    "#               t (transition matrix)\n",
    "# Outputs:      p (posterior probability distribution)\n",
    "################################################################################\n",
    "def discrete_bayes_filter(p, z, t):\n",
    "    p = z * np.sum(t * p, axis=1)\n",
    "    p /= np.sum(p)\n",
    "    return p"
   ]
  },
  {
   "cell_type": "code",
   "execution_count": null,
   "metadata": {
    "collapsed": false
   },
   "outputs": [],
   "source": [
    "################################################################################\n",
    "# Description:  Uses sensor to allow the user to fly a drone using hand motions\n",
    "# Function:     fly_drone  \n",
    "# Inputs:       none\n",
    "# Outputs:      none\n",
    "################################################################################\n",
    "def fly_drone():\n",
    "    \n",
    "    # Drone moves\n",
    "    moves = ['land', 'move_backward','move_forward', 'move_left',\n",
    "             'move_right', 'rotate_left', 'rotate_right', 'stop']\n",
    "    \n",
    "     # Data transformation\n",
    "    transform = Compose([CenterCrop(720), Scale(224),\n",
    "                         ToTensor(), Normalize([0.485, 0.456, 0.406],\n",
    "                                               [0.229, 0.224, 0.225])])\n",
    "    \n",
    "    # Initialize bayes filter variables\n",
    "    p = np.array([0.125] * 8)\n",
    "    t = np.full((8, 8), 0.01 / 7)\n",
    "    np.fill_diagonal(t, 0.99)\n",
    "    \n",
    "    # Initialize model variables\n",
    "    softmax = Softmax()\n",
    "    model = load('./droneMotion.pth')\n",
    "    move = -1\n",
    "    \n",
    "    # Turn on motion sensor\n",
    "    capture = VideoCapture(0)\n",
    "    #plt.ion()\n",
    "    while (True):\n",
    "        \n",
    "        # Plot probability distribution\n",
    "        #plt.cla()\n",
    "        #plt.bar(range(len(p)), p, color='blue')\n",
    "        #plt.xticks(range(len(p)), ['land', 'back','forw', 'left',\n",
    "                                   #'right', 'rleft', 'rright', 'stop'])\n",
    "        #plt.ylabel('Probability')\n",
    "        #plt.ylim([0, 1.19])\n",
    "        #plt.pause(1e-10)\n",
    "        \n",
    "        # Capture and process frame\n",
    "        _, frame = capture.read()\n",
    "        image = frame[:,:,::-1]\n",
    "        image = fromarray(image)\n",
    "        image = transform(image)\n",
    "        image = image.unsqueeze(0)\n",
    "        image = Variable(image)\n",
    "        \n",
    "        # Forward propagation and bayesian estimate\n",
    "        outputs = model(image)\n",
    "        z = softmax(outputs).data.numpy()[0]\n",
    "        p = discrete_bayes_filter(p, z, t)\n",
    "        \n",
    "        # Enforce 99% accuracy threshold, otherwise stop\n",
    "        if np.max(p) >= .99 and move != np.argmax(p):\n",
    "            move = np.argmax(p)\n",
    "            system(\"say '\" + moves[move] + \"'\")  \n",
    "        elif np.max(p) < .99 and move != -1:\n",
    "            move = -1\n",
    "    capture.release()"
   ]
  },
  {
   "cell_type": "markdown",
   "metadata": {},
   "source": [
    "## User Mode"
   ]
  },
  {
   "cell_type": "code",
   "execution_count": null,
   "metadata": {
    "collapsed": true
   },
   "outputs": [],
   "source": [
    "%matplotlib inline"
   ]
  },
  {
   "cell_type": "markdown",
   "metadata": {},
   "source": [
    "### Acquire data for calibration"
   ]
  },
  {
   "cell_type": "markdown",
   "metadata": {},
   "source": [
    "Each cell below captures some calibration data required for a move. You will have to run each cell one at a time to capture the movement requested (capture_movement('REQUESTED MOVEMENT')). You will most likely need some assistance capturing this footage by having somebody run the cells. Each movement requires less than a second of video. Please follow our online guidelines on how to be positioned in the video frame."
   ]
  },
  {
   "cell_type": "code",
   "execution_count": null,
   "metadata": {
    "collapsed": false
   },
   "outputs": [],
   "source": [
    "time.sleep(5)\n",
    "capture_movement('land')"
   ]
  },
  {
   "cell_type": "code",
   "execution_count": null,
   "metadata": {
    "collapsed": false
   },
   "outputs": [],
   "source": [
    "time.sleep(5)\n",
    "capture_movement('move_backward')"
   ]
  },
  {
   "cell_type": "code",
   "execution_count": null,
   "metadata": {
    "collapsed": false
   },
   "outputs": [],
   "source": [
    "time.sleep(5)\n",
    "capture_movement('move_forward')"
   ]
  },
  {
   "cell_type": "code",
   "execution_count": null,
   "metadata": {
    "collapsed": false
   },
   "outputs": [],
   "source": [
    "time.sleep(5)\n",
    "capture_movement('move_left')"
   ]
  },
  {
   "cell_type": "code",
   "execution_count": null,
   "metadata": {
    "collapsed": false
   },
   "outputs": [],
   "source": [
    "time.sleep(5)\n",
    "capture_movement('move_right')"
   ]
  },
  {
   "cell_type": "code",
   "execution_count": null,
   "metadata": {
    "collapsed": false
   },
   "outputs": [],
   "source": [
    "time.sleep(5)\n",
    "capture_movement('rotate_left')"
   ]
  },
  {
   "cell_type": "code",
   "execution_count": null,
   "metadata": {
    "collapsed": false
   },
   "outputs": [],
   "source": [
    "time.sleep(5)\n",
    "capture_movement('rotate_right')"
   ]
  },
  {
   "cell_type": "code",
   "execution_count": null,
   "metadata": {
    "collapsed": false
   },
   "outputs": [],
   "source": [
    "time.sleep(5)\n",
    "capture_movement('stop')"
   ]
  },
  {
   "cell_type": "markdown",
   "metadata": {},
   "source": [
    "### Calibrate \"Sensor\""
   ]
  },
  {
   "cell_type": "markdown",
   "metadata": {},
   "source": [
    "Run this cell below to use the acquired data above to calibrate the system. This may take a few minutes. If it has been more than five minutes, it may help to restart this notebook."
   ]
  },
  {
   "cell_type": "code",
   "execution_count": null,
   "metadata": {
    "collapsed": false
   },
   "outputs": [],
   "source": [
    "calibrate_sensor()"
   ]
  },
  {
   "cell_type": "markdown",
   "metadata": {},
   "source": [
    "### Fly with the force"
   ]
  },
  {
   "cell_type": "code",
   "execution_count": null,
   "metadata": {
    "collapsed": false
   },
   "outputs": [],
   "source": [
    "%matplotlib"
   ]
  },
  {
   "cell_type": "markdown",
   "metadata": {},
   "source": [
    "Run this cell below to demo the hand gesture detection system. This demo will work in real-time by using your computer's webcam. Please position yourself as you did for the calibration data. For better results, the position of the computer and user should not change from calibration to the live demo. Also, movements should ideally replicate those performed during calibration. There will be an audible feedback along with a dynamic bar chart from the system."
   ]
  },
  {
   "cell_type": "code",
   "execution_count": null,
   "metadata": {
    "collapsed": false
   },
   "outputs": [],
   "source": [
    "fly_drone()"
   ]
  },
  {
   "cell_type": "code",
   "execution_count": null,
   "metadata": {
    "collapsed": true
   },
   "outputs": [],
   "source": []
  }
 ],
 "metadata": {
  "kernelspec": {
   "display_name": "Python 2",
   "language": "python",
   "name": "python2"
  },
  "language_info": {
   "codemirror_mode": {
    "name": "ipython",
    "version": 2
   },
   "file_extension": ".py",
   "mimetype": "text/x-python",
   "name": "python",
   "nbconvert_exporter": "python",
   "pygments_lexer": "ipython2",
   "version": "2.7.13"
  }
 },
 "nbformat": 4,
 "nbformat_minor": 0
}
